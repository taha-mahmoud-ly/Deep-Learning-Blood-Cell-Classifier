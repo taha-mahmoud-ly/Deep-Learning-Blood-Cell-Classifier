{
 "cells": [
  {
   "cell_type": "markdown",
   "id": "d89eda03-1fa2-41e1-ad08-177f2fc422d0",
   "metadata": {},
   "source": [
    "# applying untrained YOLO8\n",
    "to check the performance on dummy fotos and some blood smears"
   ]
  },
  {
   "cell_type": "code",
   "execution_count": 1,
   "id": "664d6ef3-959c-456e-a209-f3d52132187c",
   "metadata": {},
   "outputs": [
    {
     "name": "stdout",
     "output_type": "stream",
     "text": [
      "\n",
      "image 1/1 /home/max/python_pg/tf_od/blood-dataset/test_images/pool3.jpg: 448x640 2 persons, 10 apples, 1 dining table, 264.9ms\n",
      "Speed: 12.3ms preprocess, 264.9ms inference, 13.7ms postprocess per image at shape (1, 3, 448, 640)\n",
      "Results type: <class 'list'>\n",
      "Number of results: 1\n",
      "Processing Result 1:\n",
      "Visualizing detection results...\n",
      "Detection results visualized.\n",
      "Accessing detection metrics...\n",
      "No bounding boxes or probabilities found.\n"
     ]
    }
   ],
   "source": [
    "from ultralytics import YOLO\n",
    "\n",
    "# Instantiate YOLO model and load weights\n",
    "#model = YOLO('runs/detect/train11/weights/best.pt')\n",
    "model = YOLO('yolov8n.pt')\n",
    "\n",
    "             \n",
    "# Specify the test image path\n",
    "#image_path = './blood-dataset/test_images/image-24.png'\n",
    "image_path = './blood-dataset/test_images/pool3.jpg'\n",
    "\n",
    "\n",
    "try:\n",
    "    # Perform object detection on the test image\n",
    "    results = model(image_path, conf=0.09)\n",
    "    \n",
    "    print(f\"Results type: {type(results)}\")  # Print the type of results returned\n",
    "    print(f\"Number of results: {len(results)}\")  # Print the number of items in results list\n",
    "    \n",
    "    # Iterate through each Results object\n",
    "    for idx, result in enumerate(results):\n",
    "        print(f\"Processing Result {idx + 1}:\")\n",
    "        \n",
    "        # Visualize the detection results\n",
    "        print(\"Visualizing detection results...\")\n",
    "        result.show()  # Show annotated results to screen\n",
    "        print(\"Detection results visualized.\")\n",
    "        \n",
    "        # Access the detection metrics (optional)\n",
    "        print(\"Accessing detection metrics...\")\n",
    "        if result.boxes is not None and result.probs is not None:\n",
    "            for bbox, conf in zip(result.boxes, result.probs):\n",
    "                print(f\"Bounding Box: {bbox}, Confidence: {conf}\")\n",
    "            print(\"Detection metrics accessed successfully.\")\n",
    "        else:\n",
    "            print(\"No bounding boxes or probabilities found.\")\n",
    "    \n",
    "except Exception as e:\n",
    "    print(f\"Error performing object detection: {e}\")\n"
   ]
  },
  {
   "cell_type": "code",
   "execution_count": null,
   "id": "e39df26a-949b-493c-8d66-dc898399a4b9",
   "metadata": {},
   "outputs": [],
   "source": [
    "# Applying the trained model"
   ]
  },
  {
   "cell_type": "code",
   "execution_count": 65,
   "id": "ae8b0e55-b585-4f5e-a6d7-95683fc4d973",
   "metadata": {},
   "outputs": [
    {
     "name": "stdout",
     "output_type": "stream",
     "text": [
      "\n",
      "image 1/1 /home/max/python_pg/tf_od/blood-dataset/test_images/pool3.jpg: 192x256 23 rbcs, 47.2ms\n",
      "Speed: 1.1ms preprocess, 47.2ms inference, 0.8ms postprocess per image at shape (1, 3, 192, 256)\n",
      "Results type: <class 'list'>\n",
      "Number of results: 1\n",
      "Processing Result 1:\n",
      "Visualizing detection results...\n",
      "Detection results visualized.\n",
      "Accessing detection metrics...\n",
      "No bounding boxes or probabilities found.\n"
     ]
    }
   ],
   "source": [
    "from ultralytics import YOLO\n",
    "\n",
    "# Instantiate YOLO model and load weights\n",
    "model = YOLO('/home/max/python_pg/tf_od/runs/detect/train14/weights/best.pt')\n",
    "\n",
    "# Specify the test image path\n",
    "#image_path = './blood-dataset/test_images/image-77.png'\n",
    "image_path = './blood-dataset/test_images/pool3.jpg'\n",
    "\n",
    "try:\n",
    "    # Perform object detection on the test image\n",
    "    results = model(image_path, conf=0.2469)\n",
    "    \n",
    "    print(f\"Results type: {type(results)}\")  # Print the type of results returned\n",
    "    print(f\"Number of results: {len(results)}\")  # Print the number of items in results list\n",
    "    \n",
    "    # Iterate through each Results object\n",
    "    for idx, result in enumerate(results):\n",
    "        print(f\"Processing Result {idx + 1}:\")\n",
    "        \n",
    "        # Visualize the detection results\n",
    "        print(\"Visualizing detection results...\")\n",
    "        result.show()  # Show annotated results to screen\n",
    "        print(\"Detection results visualized.\")\n",
    "        \n",
    "        # Access the detection metrics (optional)\n",
    "        print(\"Accessing detection metrics...\")\n",
    "        if result.boxes is not None and result.probs is not None:\n",
    "            for bbox, conf in zip(result.boxes, result.probs):\n",
    "                print(f\"Bounding Box: {bbox}, Confidence: {conf}\")\n",
    "            print(\"Detection metrics accessed successfully.\")\n",
    "        else:\n",
    "            print(\"No bounding boxes or probabilities found.\")\n",
    "    \n",
    "except Exception as e:\n",
    "    print(f\"Error performing object detection: {e}\")\n"
   ]
  },
  {
   "cell_type": "code",
   "execution_count": null,
   "id": "d98f90ba-1d77-40b4-b966-978957c8a74e",
   "metadata": {},
   "outputs": [],
   "source": []
  }
 ],
 "metadata": {
  "kernelspec": {
   "display_name": "Python 3 (ipykernel)",
   "language": "python",
   "name": "python3"
  },
  "language_info": {
   "codemirror_mode": {
    "name": "ipython",
    "version": 3
   },
   "file_extension": ".py",
   "mimetype": "text/x-python",
   "name": "python",
   "nbconvert_exporter": "python",
   "pygments_lexer": "ipython3",
   "version": "3.11.9"
  }
 },
 "nbformat": 4,
 "nbformat_minor": 5
}
