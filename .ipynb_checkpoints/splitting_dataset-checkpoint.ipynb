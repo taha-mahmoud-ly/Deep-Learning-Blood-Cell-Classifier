{
 "cells": [
  {
   "cell_type": "markdown",
   "id": "b22cfd31-e15d-4a42-9e48-633be1d572d7",
   "metadata": {},
   "source": [
    "# Splitting the dataset into training and evaluation sets"
   ]
  },
  {
   "cell_type": "code",
   "execution_count": 1,
   "id": "f5b6eeb3-7231-41c9-88f5-370f19ed1f9d",
   "metadata": {
    "tags": []
   },
   "outputs": [
    {
     "name": "stdout",
     "output_type": "stream",
     "text": [
      "Dataset split completed. Train set size: 80 Eval set size: 20\n"
     ]
    }
   ],
   "source": [
    "import os\n",
    "import shutil\n",
    "import random\n",
    "\n",
    "# Directories\n",
    "image_dir = 'blood-dataset/images'\n",
    "annotation_dir = 'blood-dataset/normalized_annotations'\n",
    "train_image_dir = 'blood-dataset/train/images'\n",
    "train_annotation_dir = 'blood-dataset/train/annotations'\n",
    "eval_image_dir = 'blood-dataset/eval/images'\n",
    "eval_annotation_dir = 'blood-dataset/eval/annotations'\n",
    "\n",
    "# Create directories if they don't exist\n",
    "os.makedirs(train_image_dir, exist_ok=True)\n",
    "os.makedirs(train_annotation_dir, exist_ok=True)\n",
    "os.makedirs(eval_image_dir, exist_ok=True)\n",
    "os.makedirs(eval_annotation_dir, exist_ok=True)\n",
    "\n",
    "# List all images\n",
    "all_images = [f for f in os.listdir(image_dir) if f.endswith('.png')]\n",
    "\n",
    "# Shuffle the images for random splitting\n",
    "random.shuffle(all_images)\n",
    "\n",
    "# Define split ratio\n",
    "train_ratio = 0.8\n",
    "train_size = int(train_ratio * len(all_images))\n",
    "\n",
    "# Split the dataset\n",
    "train_images = all_images[:train_size]\n",
    "eval_images = all_images[train_size:]\n",
    "\n",
    "def copy_files(file_list, src_image_dir, src_annotation_dir, dst_image_dir, dst_annotation_dir):\n",
    "    for file_name in file_list:\n",
    "        # Copy image file\n",
    "        shutil.copy(os.path.join(src_image_dir, file_name), os.path.join(dst_image_dir, file_name))\n",
    "        \n",
    "        # Copy corresponding annotation file\n",
    "        annotation_file_name = os.path.splitext(file_name)[0] + '.txt'\n",
    "        shutil.copy(os.path.join(src_annotation_dir, annotation_file_name), os.path.join(dst_annotation_dir, annotation_file_name))\n",
    "\n",
    "# Copy training files\n",
    "copy_files(train_images, image_dir, annotation_dir, train_image_dir, train_annotation_dir)\n",
    "\n",
    "# Copy evaluation files\n",
    "copy_files(eval_images, image_dir, annotation_dir, eval_image_dir, eval_annotation_dir)\n",
    "\n",
    "print(\"Dataset split completed. Train set size:\", len(train_images), \"Eval set size:\", len(eval_images))\n"
   ]
  },
  {
   "cell_type": "code",
   "execution_count": null,
   "id": "6b479fe8-fc0c-425e-ab14-9339ae36eedf",
   "metadata": {},
   "outputs": [],
   "source": []
  }
 ],
 "metadata": {
  "kernelspec": {
   "display_name": "Python 3 (ipykernel)",
   "language": "python",
   "name": "python3"
  },
  "language_info": {
   "codemirror_mode": {
    "name": "ipython",
    "version": 3
   },
   "file_extension": ".py",
   "mimetype": "text/x-python",
   "name": "python",
   "nbconvert_exporter": "python",
   "pygments_lexer": "ipython3",
   "version": "3.11.7"
  }
 },
 "nbformat": 4,
 "nbformat_minor": 5
}
