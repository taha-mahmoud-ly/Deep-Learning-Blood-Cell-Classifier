{
 "cells": [
  {
   "cell_type": "markdown",
   "id": "3707b87e-910a-4c42-a199-230dad20c270",
   "metadata": {},
   "source": [
    "# convert Annotations to Yolo Format"
   ]
  },
  {
   "cell_type": "code",
   "execution_count": 1,
   "id": "ea995792-7b56-45ef-9ba6-14a598bca9e4",
   "metadata": {},
   "outputs": [
    {
     "name": "stdout",
     "output_type": "stream",
     "text": [
      "Conversion to YOLO format completed.\n"
     ]
    }
   ],
   "source": [
    "import os\n",
    "import cv2\n",
    "\n",
    "def convert_to_yolo_format(image_path, annotation_path, yolo_annotation_path, class_mapping):\n",
    "    image = cv2.imread(image_path)\n",
    "    height, width, _ = image.shape\n",
    "\n",
    "    with open(annotation_path, 'r') as file:\n",
    "        lines = file.readlines()\n",
    "        with open(yolo_annotation_path, 'w') as yolo_file:\n",
    "            for line in lines:\n",
    "                parts = line.strip().split()\n",
    "                label = parts[0]\n",
    "                x_min = float(parts[4])\n",
    "                y_min = float(parts[5])\n",
    "                x_max = float(parts[6])\n",
    "                y_max = float(parts[7])\n",
    "\n",
    "                # Calculate YOLO format\n",
    "                center_x = (x_min + x_max) / 2 / width\n",
    "                center_y = (y_min + y_max) / 2 / height\n",
    "                bbox_width = (x_max - x_min) / width\n",
    "                bbox_height = (y_max - y_min) / height\n",
    "\n",
    "                class_id = class_mapping[label]\n",
    "                yolo_file.write(f\"{class_id} {center_x} {center_y} {bbox_width} {bbox_height}\\n\")\n",
    "\n",
    "def process_directory(image_dir, annotation_dir, yolo_output_dir, class_mapping):\n",
    "    os.makedirs(yolo_output_dir, exist_ok=True)\n",
    "\n",
    "    for image_filename in os.listdir(image_dir):\n",
    "        if image_filename.endswith('.png'):\n",
    "            image_path = os.path.join(image_dir, image_filename)\n",
    "            annotation_path = os.path.join(annotation_dir, image_filename.replace('.png', '.txt'))\n",
    "            yolo_annotation_path = os.path.join(yolo_output_dir, image_filename.replace('.png', '.txt'))\n",
    "\n",
    "            convert_to_yolo_format(image_path, annotation_path, yolo_annotation_path, class_mapping)\n",
    "\n",
    "# Define paths\n",
    "train_image_dir = '/home/max/python_pg/tf_od/blood-dataset/train/images'\n",
    "train_annotation_dir = '/home/max/python_pg/tf_od/blood-dataset/train/annotations'\n",
    "train_yolo_output_dir = '/home/max/python_pg/tf_od/blood-dataset/yolo/train/annotations'\n",
    "\n",
    "eval_image_dir = '/home/max/python_pg/tf_od/blood-dataset/eval/images'\n",
    "eval_annotation_dir = '/home/max/python_pg/tf_od/blood-dataset/eval/annotations'\n",
    "eval_yolo_output_dir = '/home/max/python_pg/tf_od/blood-dataset/yolo/eval/annotations'\n",
    "\n",
    "# Define class mapping\n",
    "class_mapping = {'wbc': 0, 'rbc': 1}\n",
    "\n",
    "# Process directories\n",
    "process_directory(train_image_dir, train_annotation_dir, train_yolo_output_dir, class_mapping)\n",
    "process_directory(eval_image_dir, eval_annotation_dir, eval_yolo_output_dir, class_mapping)\n",
    "\n",
    "print(\"Conversion to YOLO format completed.\")\n"
   ]
  },
  {
   "cell_type": "code",
   "execution_count": null,
   "id": "35dac63d-7c7d-4809-80a0-e785b846239c",
   "metadata": {},
   "outputs": [],
   "source": []
  }
 ],
 "metadata": {
  "kernelspec": {
   "display_name": "Python 3 (ipykernel)",
   "language": "python",
   "name": "python3"
  },
  "language_info": {
   "codemirror_mode": {
    "name": "ipython",
    "version": 3
   },
   "file_extension": ".py",
   "mimetype": "text/x-python",
   "name": "python",
   "nbconvert_exporter": "python",
   "pygments_lexer": "ipython3",
   "version": "3.11.9"
  }
 },
 "nbformat": 4,
 "nbformat_minor": 5
}
